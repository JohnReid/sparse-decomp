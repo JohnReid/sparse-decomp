{
 "metadata": {
  "name": ""
 },
 "nbformat": 3,
 "nbformat_minor": 0,
 "worksheets": [
  {
   "cells": [
    {
     "cell_type": "code",
     "collapsed": false,
     "input": [
      "import sympy as sy\n",
      "from IPython.display import display\n",
      "sy.init_printing(use_latex='mathjax')"
     ],
     "language": "python",
     "metadata": {},
     "outputs": [],
     "prompt_number": 92
    },
    {
     "cell_type": "code",
     "collapsed": false,
     "input": [
      "s, lambda_ = sy.symbols('s lambda', real=True, positive=True)\n",
      "beta = sy.symbols('beta', real=True)"
     ],
     "language": "python",
     "metadata": {},
     "outputs": [],
     "prompt_number": 93
    },
    {
     "cell_type": "markdown",
     "metadata": {},
     "source": [
      "The gamma distribution: $\\textrm{Gamma}(s_{ij}|1, \\frac{\\lambda^2}{2})$"
     ]
    },
    {
     "cell_type": "code",
     "collapsed": false,
     "input": [
      "gamma = lambda_**2/2 * sy.exp(-lambda_**2 / 2 * s)\n",
      "display(gamma)"
     ],
     "language": "python",
     "metadata": {},
     "outputs": [
      {
       "latex": [
        "$$\\frac{\\lambda^{2}}{2 e^{\\frac{\\lambda^{2} s}{2}}}$$"
       ],
       "metadata": {},
       "output_type": "display_data",
       "text": [
        "      2   \n",
        "    -\u03bb \u22c5s \n",
        "    \u2500\u2500\u2500\u2500\u2500\u2500\n",
        " 2    2   \n",
        "\u03bb \u22c5\u212f      \n",
        "\u2500\u2500\u2500\u2500\u2500\u2500\u2500\u2500\u2500\u2500\n",
        "    2     "
       ]
      }
     ],
     "prompt_number": 94
    },
    {
     "cell_type": "markdown",
     "metadata": {},
     "source": [
      "The normal distribution: $\\mathcal{N}(0, s_{ij}^2)$"
     ]
    },
    {
     "cell_type": "code",
     "collapsed": false,
     "input": [
      "normal = 1/s*sy.exp(-beta**2/2/s**2)\n",
      "display(normal)"
     ],
     "language": "python",
     "metadata": {},
     "outputs": [
      {
       "latex": [
        "$$\\frac{1}{s} e^{- \\frac{\\beta^{2}}{2 s^{2}}}$$"
       ],
       "metadata": {},
       "output_type": "display_data",
       "text": [
        "   2 \n",
        " -\u03b2  \n",
        " \u2500\u2500\u2500\u2500\n",
        "    2\n",
        " 2\u22c5s \n",
        "\u212f    \n",
        "\u2500\u2500\u2500\u2500\u2500\n",
        "  s  "
       ]
      }
     ],
     "prompt_number": 95
    },
    {
     "cell_type": "code",
     "collapsed": false,
     "input": [
      "sy.simplify(normal * gamma)"
     ],
     "language": "python",
     "metadata": {},
     "outputs": [
      {
       "latex": [
        "$$\\frac{\\lambda^{2}}{2 s e^{\\frac{\\beta^{2}}{2 s^{2}} + \\frac{\\lambda^{2} s}{2}}}$$"
       ],
       "metadata": {},
       "output_type": "pyout",
       "prompt_number": 96,
       "text": [
        "        2     2  \n",
        "       \u03b2     \u03bb \u22c5s\n",
        "    - \u2500\u2500\u2500\u2500 - \u2500\u2500\u2500\u2500\n",
        "         2    2  \n",
        " 2    2\u22c5s        \n",
        "\u03bb \u22c5\u212f             \n",
        "\u2500\u2500\u2500\u2500\u2500\u2500\u2500\u2500\u2500\u2500\u2500\u2500\u2500\u2500\u2500\u2500\u2500\n",
        "       2\u22c5s       "
       ]
      }
     ],
     "prompt_number": 96
    },
    {
     "cell_type": "code",
     "collapsed": false,
     "input": [
      "sy.integrate(normal * gamma, s)"
     ],
     "language": "python",
     "metadata": {},
     "outputs": [
      {
       "latex": [
        "$$\\int \\frac{\\lambda^{2} e^{- \\frac{\\beta^{2}}{2 s^{2}}}}{2 s e^{\\frac{\\lambda^{2} s}{2}}}\\, ds$$"
       ],
       "metadata": {},
       "output_type": "pyout",
       "prompt_number": 97,
       "text": [
        "\u2320                    \n",
        "\u23ae       2            \n",
        "\u23ae     -\u03b2      2      \n",
        "\u23ae     \u2500\u2500\u2500\u2500  -\u03bb \u22c5s    \n",
        "\u23ae        2  \u2500\u2500\u2500\u2500\u2500\u2500   \n",
        "\u23ae  2  2\u22c5s     2      \n",
        "\u23ae \u03bb \u22c5\u212f    \u22c5\u212f         \n",
        "\u23ae \u2500\u2500\u2500\u2500\u2500\u2500\u2500\u2500\u2500\u2500\u2500\u2500\u2500\u2500\u2500\u2500 ds\n",
        "\u23ae       2\u22c5s          \n",
        "\u2321                    "
       ]
      }
     ],
     "prompt_number": 97
    },
    {
     "cell_type": "code",
     "collapsed": false,
     "input": [
      "sy.expand_log(2 * sy.log(normal * gamma))"
     ],
     "language": "python",
     "metadata": {},
     "outputs": [
      {
       "latex": [
        "$$- \\frac{\\beta^{2}}{s^{2}} - \\lambda^{2} s + 4 \\log{\\left (\\lambda \\right )} - 2 \\log{\\left (s \\right )} - 2 \\log{\\left (2 \\right )}$$"
       ],
       "metadata": {},
       "output_type": "pyout",
       "prompt_number": 98,
       "text": [
        "   2                                        \n",
        "  \u03b2     2                                   \n",
        "- \u2500\u2500 - \u03bb \u22c5s + 4\u22c5log(\u03bb) - 2\u22c5log(s) - 2\u22c5log(2)\n",
        "   2                                        \n",
        "  s                                         "
       ]
      }
     ],
     "prompt_number": 98
    },
    {
     "cell_type": "markdown",
     "metadata": {},
     "source": [
      "Draw from Laplacian prior given in wei_lap.stan (Peltola)"
     ]
    },
    {
     "cell_type": "code",
     "collapsed": false,
     "input": [
      "%matplotlib inline\n",
      "import scipy.stats as st\n",
      "import matplotlib.pyplot as plt\n",
      "import numpy as np\n",
      "N = 1000000\n",
      "r1 = st.norm(0, 1).rvs(N)\n",
      "r2 = st.gamma(.5, .5).rvs(N)\n",
      "r = st.expon(1).rvs(N)"
     ],
     "language": "python",
     "metadata": {},
     "outputs": [],
     "prompt_number": 99
    },
    {
     "cell_type": "code",
     "collapsed": false,
     "input": [
      "_ = plt.hist(r1)"
     ],
     "language": "python",
     "metadata": {},
     "outputs": [
      {
       "metadata": {},
       "output_type": "display_data",
       "png": "[encoded data removed]",
       "text": [
        "<matplotlib.figure.Figure at 0x7f464638e350>"
       ]
      }
     ],
     "prompt_number": 100
    },
    {
     "cell_type": "code",
     "collapsed": false,
     "input": [
      "_ = plt.hist(r2)"
     ],
     "language": "python",
     "metadata": {},
     "outputs": [
      {
       "metadata": {},
       "output_type": "display_data",
       "png": "[encoded data removed]",
       "text": [
        "<matplotlib.figure.Figure at 0x7f46442186d0>"
       ]
      }
     ],
     "prompt_number": 101
    },
    {
     "cell_type": "code",
     "collapsed": false,
     "input": [
      "_ = plt.hist(r)"
     ],
     "language": "python",
     "metadata": {},
     "outputs": [
      {
       "metadata": {},
       "output_type": "display_data",
       "png": "[encoded data removed]",
       "text": [
        "<matplotlib.figure.Figure at 0x7f464427fe10>"
       ]
      }
     ],
     "prompt_number": 102
    },
    {
     "cell_type": "code",
     "collapsed": false,
     "input": [
      "_ = plt.hist(r1 * np.sqrt(r/r2), bins=1000)\n",
      "plt.xlim(-1.5, 1.5)"
     ],
     "language": "python",
     "metadata": {},
     "outputs": [
      {
       "latex": [
        "$$\\begin{pmatrix}-1.5, & 1.5\\end{pmatrix}$$"
       ],
       "metadata": {},
       "output_type": "pyout",
       "prompt_number": 106,
       "text": [
        "(-1.5, 1.5)"
       ]
      },
      {
       "metadata": {},
       "output_type": "display_data",
       "png": "[encoded data removed]",
       "text": [
        "<matplotlib.figure.Figure at 0x7f4644df00d0>"
       ]
      }
     ],
     "prompt_number": 106
    },
    {
     "cell_type": "code",
     "collapsed": false,
     "input": [],
     "language": "python",
     "metadata": {},
     "outputs": []
    }
   ],
   "metadata": {}
  }
 ]
}